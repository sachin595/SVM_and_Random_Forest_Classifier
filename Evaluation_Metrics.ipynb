{
 "cells": [
  {
   "cell_type": "markdown",
   "metadata": {
    "id": "GLiMyOD9PkqI"
   },
   "source": [
    "# Evaluating the performance of a simple learning system on a real-world dataset."
   ]
  },
  {
   "cell_type": "markdown",
   "metadata": {},
   "source": [
    "### LOADING  PACKAGES"
   ]
  },
  {
   "cell_type": "code",
   "execution_count": 1,
   "metadata": {
    "id": "1EHdRhotPEXs"
   },
   "outputs": [],
   "source": [
    "import numpy as np\n",
    "import pandas as pd\n",
    "import seaborn as sns\n",
    "import matplotlib.pyplot as plt\n",
    "from sklearn.model_selection import train_test_split\n",
    "from sklearn.metrics import accuracy_score,confusion_matrix,precision_score,classification_report\n",
    "from sklearn.svm import SVC\n",
    "from sklearn.ensemble import RandomForestClassifier\n",
    "from sklearn.preprocessing import LabelEncoder"
   ]
  },
  {
   "cell_type": "markdown",
   "metadata": {
    "id": "C7n6O_dGPskF"
   },
   "source": [
    "### DATA LOAD AND PROCESSING\n"
   ]
  },
  {
   "cell_type": "code",
   "execution_count": 2,
   "metadata": {
    "id": "KNT6NAaDPZn8"
   },
   "outputs": [],
   "source": [
    "df = pd.read_csv(\"C:/Users/DELL/Downloads/ML/assignment 3/Data_lncRNA_2_cancers.csv\")  #Loading Data"
   ]
  },
  {
   "cell_type": "code",
   "execution_count": 3,
   "metadata": {
    "colab": {
     "base_uri": "https://localhost:8080/",
     "height": 386
    },
    "id": "VapXcZ6HStfu",
    "outputId": "340459e3-896f-4f81-c0f2-a8e89f1f3c96"
   },
   "outputs": [
    {
     "data": {
      "text/html": [
       "<div>\n",
       "<style scoped>\n",
       "    .dataframe tbody tr th:only-of-type {\n",
       "        vertical-align: middle;\n",
       "    }\n",
       "\n",
       "    .dataframe tbody tr th {\n",
       "        vertical-align: top;\n",
       "    }\n",
       "\n",
       "    .dataframe thead th {\n",
       "        text-align: right;\n",
       "    }\n",
       "</style>\n",
       "<table border=\"1\" class=\"dataframe\">\n",
       "  <thead>\n",
       "    <tr style=\"text-align: right;\">\n",
       "      <th></th>\n",
       "      <th>Ensembl_ID</th>\n",
       "      <th>ENSG00000005206.15</th>\n",
       "      <th>ENSG00000083622.8</th>\n",
       "      <th>ENSG00000088970.14</th>\n",
       "      <th>ENSG00000099869.7</th>\n",
       "      <th>ENSG00000100181.20</th>\n",
       "      <th>ENSG00000104691.13</th>\n",
       "      <th>ENSG00000115934.11</th>\n",
       "      <th>ENSG00000117242.7</th>\n",
       "      <th>ENSG00000118412.11</th>\n",
       "      <th>...</th>\n",
       "      <th>ENSGR0000223511.4</th>\n",
       "      <th>ENSGR0000223571.4</th>\n",
       "      <th>ENSGR0000226179.4</th>\n",
       "      <th>ENSGR0000230542.4</th>\n",
       "      <th>ENSGR0000234622.4</th>\n",
       "      <th>ENSGR0000236017.6</th>\n",
       "      <th>ENSGR0000236871.5</th>\n",
       "      <th>ENSGR0000237531.4</th>\n",
       "      <th>ENSGR0000270726.4</th>\n",
       "      <th>Class</th>\n",
       "    </tr>\n",
       "  </thead>\n",
       "  <tbody>\n",
       "    <tr>\n",
       "      <th>0</th>\n",
       "      <td>TCGA-05-4244-01A</td>\n",
       "      <td>2.979519</td>\n",
       "      <td>0.00000</td>\n",
       "      <td>1.894481</td>\n",
       "      <td>0.000000</td>\n",
       "      <td>0.094936</td>\n",
       "      <td>1.601225</td>\n",
       "      <td>0.0</td>\n",
       "      <td>0.843660</td>\n",
       "      <td>1.822328</td>\n",
       "      <td>...</td>\n",
       "      <td>0.0</td>\n",
       "      <td>0.0</td>\n",
       "      <td>0.0</td>\n",
       "      <td>0.0</td>\n",
       "      <td>0.0</td>\n",
       "      <td>0.0</td>\n",
       "      <td>0.0</td>\n",
       "      <td>0.0</td>\n",
       "      <td>0.0</td>\n",
       "      <td>LUAD</td>\n",
       "    </tr>\n",
       "    <tr>\n",
       "      <th>1</th>\n",
       "      <td>TCGA-05-4250-01A</td>\n",
       "      <td>1.761075</td>\n",
       "      <td>0.00000</td>\n",
       "      <td>1.512506</td>\n",
       "      <td>0.000000</td>\n",
       "      <td>0.063790</td>\n",
       "      <td>2.260509</td>\n",
       "      <td>0.0</td>\n",
       "      <td>1.244437</td>\n",
       "      <td>1.346487</td>\n",
       "      <td>...</td>\n",
       "      <td>0.0</td>\n",
       "      <td>0.0</td>\n",
       "      <td>0.0</td>\n",
       "      <td>0.0</td>\n",
       "      <td>0.0</td>\n",
       "      <td>0.0</td>\n",
       "      <td>0.0</td>\n",
       "      <td>0.0</td>\n",
       "      <td>0.0</td>\n",
       "      <td>LUAD</td>\n",
       "    </tr>\n",
       "    <tr>\n",
       "      <th>2</th>\n",
       "      <td>TCGA-05-4382-01A</td>\n",
       "      <td>2.527333</td>\n",
       "      <td>0.00000</td>\n",
       "      <td>1.473132</td>\n",
       "      <td>0.080562</td>\n",
       "      <td>0.314608</td>\n",
       "      <td>1.695952</td>\n",
       "      <td>0.0</td>\n",
       "      <td>1.358939</td>\n",
       "      <td>1.413738</td>\n",
       "      <td>...</td>\n",
       "      <td>0.0</td>\n",
       "      <td>0.0</td>\n",
       "      <td>0.0</td>\n",
       "      <td>0.0</td>\n",
       "      <td>0.0</td>\n",
       "      <td>0.0</td>\n",
       "      <td>0.0</td>\n",
       "      <td>0.0</td>\n",
       "      <td>0.0</td>\n",
       "      <td>LUAD</td>\n",
       "    </tr>\n",
       "    <tr>\n",
       "      <th>3</th>\n",
       "      <td>TCGA-05-4384-01A</td>\n",
       "      <td>2.300864</td>\n",
       "      <td>0.39099</td>\n",
       "      <td>1.507538</td>\n",
       "      <td>0.029133</td>\n",
       "      <td>2.307563</td>\n",
       "      <td>2.058446</td>\n",
       "      <td>0.0</td>\n",
       "      <td>1.158064</td>\n",
       "      <td>1.711065</td>\n",
       "      <td>...</td>\n",
       "      <td>0.0</td>\n",
       "      <td>0.0</td>\n",
       "      <td>0.0</td>\n",
       "      <td>0.0</td>\n",
       "      <td>0.0</td>\n",
       "      <td>0.0</td>\n",
       "      <td>0.0</td>\n",
       "      <td>0.0</td>\n",
       "      <td>0.0</td>\n",
       "      <td>LUAD</td>\n",
       "    </tr>\n",
       "    <tr>\n",
       "      <th>4</th>\n",
       "      <td>TCGA-05-4389-01A</td>\n",
       "      <td>2.388600</td>\n",
       "      <td>0.00000</td>\n",
       "      <td>1.870401</td>\n",
       "      <td>0.000000</td>\n",
       "      <td>0.119019</td>\n",
       "      <td>1.681496</td>\n",
       "      <td>0.0</td>\n",
       "      <td>0.577340</td>\n",
       "      <td>1.378387</td>\n",
       "      <td>...</td>\n",
       "      <td>0.0</td>\n",
       "      <td>0.0</td>\n",
       "      <td>0.0</td>\n",
       "      <td>0.0</td>\n",
       "      <td>0.0</td>\n",
       "      <td>0.0</td>\n",
       "      <td>0.0</td>\n",
       "      <td>0.0</td>\n",
       "      <td>0.0</td>\n",
       "      <td>LUAD</td>\n",
       "    </tr>\n",
       "  </tbody>\n",
       "</table>\n",
       "<p>5 rows × 12311 columns</p>\n",
       "</div>"
      ],
      "text/plain": [
       "         Ensembl_ID  ENSG00000005206.15  ENSG00000083622.8  \\\n",
       "0  TCGA-05-4244-01A            2.979519            0.00000   \n",
       "1  TCGA-05-4250-01A            1.761075            0.00000   \n",
       "2  TCGA-05-4382-01A            2.527333            0.00000   \n",
       "3  TCGA-05-4384-01A            2.300864            0.39099   \n",
       "4  TCGA-05-4389-01A            2.388600            0.00000   \n",
       "\n",
       "   ENSG00000088970.14  ENSG00000099869.7  ENSG00000100181.20  \\\n",
       "0            1.894481           0.000000            0.094936   \n",
       "1            1.512506           0.000000            0.063790   \n",
       "2            1.473132           0.080562            0.314608   \n",
       "3            1.507538           0.029133            2.307563   \n",
       "4            1.870401           0.000000            0.119019   \n",
       "\n",
       "   ENSG00000104691.13  ENSG00000115934.11  ENSG00000117242.7  \\\n",
       "0            1.601225                 0.0           0.843660   \n",
       "1            2.260509                 0.0           1.244437   \n",
       "2            1.695952                 0.0           1.358939   \n",
       "3            2.058446                 0.0           1.158064   \n",
       "4            1.681496                 0.0           0.577340   \n",
       "\n",
       "   ENSG00000118412.11  ...  ENSGR0000223511.4  ENSGR0000223571.4  \\\n",
       "0            1.822328  ...                0.0                0.0   \n",
       "1            1.346487  ...                0.0                0.0   \n",
       "2            1.413738  ...                0.0                0.0   \n",
       "3            1.711065  ...                0.0                0.0   \n",
       "4            1.378387  ...                0.0                0.0   \n",
       "\n",
       "   ENSGR0000226179.4  ENSGR0000230542.4  ENSGR0000234622.4  ENSGR0000236017.6  \\\n",
       "0                0.0                0.0                0.0                0.0   \n",
       "1                0.0                0.0                0.0                0.0   \n",
       "2                0.0                0.0                0.0                0.0   \n",
       "3                0.0                0.0                0.0                0.0   \n",
       "4                0.0                0.0                0.0                0.0   \n",
       "\n",
       "   ENSGR0000236871.5  ENSGR0000237531.4  ENSGR0000270726.4  Class  \n",
       "0                0.0                0.0                0.0   LUAD  \n",
       "1                0.0                0.0                0.0   LUAD  \n",
       "2                0.0                0.0                0.0   LUAD  \n",
       "3                0.0                0.0                0.0   LUAD  \n",
       "4                0.0                0.0                0.0   LUAD  \n",
       "\n",
       "[5 rows x 12311 columns]"
      ]
     },
     "execution_count": 3,
     "metadata": {},
     "output_type": "execute_result"
    }
   ],
   "source": [
    "df.head()"
   ]
  },
  {
   "cell_type": "code",
   "execution_count": 4,
   "metadata": {
    "colab": {
     "base_uri": "https://localhost:8080/"
    },
    "id": "uhQtw8ZOSwiD",
    "outputId": "d50431f1-b686-4f95-f72d-3b0fb02ef2a0"
   },
   "outputs": [
    {
     "data": {
      "text/plain": [
       "(1008, 12311)"
      ]
     },
     "execution_count": 4,
     "metadata": {},
     "output_type": "execute_result"
    }
   ],
   "source": [
    "df.shape    #cheching number of columns"
   ]
  },
  {
   "cell_type": "code",
   "execution_count": 5,
   "metadata": {
    "colab": {
     "base_uri": "https://localhost:8080/",
     "height": 296
    },
    "id": "k0ypWjohS0dR",
    "outputId": "2f1520df-0c03-4cf7-803a-77da99387311"
   },
   "outputs": [
    {
     "data": {
      "text/plain": [
       "<AxesSubplot:xlabel='Class', ylabel='count'>"
      ]
     },
     "execution_count": 5,
     "metadata": {},
     "output_type": "execute_result"
    },
    {
     "data": {
      "image/png": "[encoded data removed]",
      "text/plain": [
       "<Figure size 432x288 with 1 Axes>"
      ]
     },
     "metadata": {
      "needs_background": "light"
     },
     "output_type": "display_data"
    }
   ],
   "source": [
    "sns.countplot(x='Class',data=df)      #plotting values of classes"
   ]
  },
  {
   "cell_type": "markdown",
   "metadata": {
    "id": "qU-OUj5CUud-"
   },
   "source": [
    "As by plotting this we can see that Data is Balanced as LUAD and LUSC have same amount of Data"
   ]
  },
  {
   "cell_type": "code",
   "execution_count": 6,
   "metadata": {
    "colab": {
     "base_uri": "https://localhost:8080/",
     "height": 394
    },
    "id": "6pp1aNnyS8fO",
    "outputId": "8a36ac70-f43b-441c-d394-28ddb046a64e"
   },
   "outputs": [
    {
     "data": {
      "text/html": [
       "<div>\n",
       "<style scoped>\n",
       "    .dataframe tbody tr th:only-of-type {\n",
       "        vertical-align: middle;\n",
       "    }\n",
       "\n",
       "    .dataframe tbody tr th {\n",
       "        vertical-align: top;\n",
       "    }\n",
       "\n",
       "    .dataframe thead th {\n",
       "        text-align: right;\n",
       "    }\n",
       "</style>\n",
       "<table border=\"1\" class=\"dataframe\">\n",
       "  <thead>\n",
       "    <tr style=\"text-align: right;\">\n",
       "      <th></th>\n",
       "      <th>ENSG00000005206.15</th>\n",
       "      <th>ENSG00000083622.8</th>\n",
       "      <th>ENSG00000088970.14</th>\n",
       "      <th>ENSG00000099869.7</th>\n",
       "      <th>ENSG00000100181.20</th>\n",
       "      <th>ENSG00000104691.13</th>\n",
       "      <th>ENSG00000115934.11</th>\n",
       "      <th>ENSG00000117242.7</th>\n",
       "      <th>ENSG00000118412.11</th>\n",
       "      <th>ENSG00000122043.9</th>\n",
       "      <th>...</th>\n",
       "      <th>ENSGR0000185203.10</th>\n",
       "      <th>ENSGR0000223511.4</th>\n",
       "      <th>ENSGR0000223571.4</th>\n",
       "      <th>ENSGR0000226179.4</th>\n",
       "      <th>ENSGR0000230542.4</th>\n",
       "      <th>ENSGR0000234622.4</th>\n",
       "      <th>ENSGR0000236017.6</th>\n",
       "      <th>ENSGR0000236871.5</th>\n",
       "      <th>ENSGR0000237531.4</th>\n",
       "      <th>ENSGR0000270726.4</th>\n",
       "    </tr>\n",
       "  </thead>\n",
       "  <tbody>\n",
       "    <tr>\n",
       "      <th>count</th>\n",
       "      <td>1008.000000</td>\n",
       "      <td>1008.000000</td>\n",
       "      <td>1008.000000</td>\n",
       "      <td>1008.000000</td>\n",
       "      <td>1008.000000</td>\n",
       "      <td>1008.000000</td>\n",
       "      <td>1008.000000</td>\n",
       "      <td>1008.000000</td>\n",
       "      <td>1008.000000</td>\n",
       "      <td>1008.000000</td>\n",
       "      <td>...</td>\n",
       "      <td>1008.0</td>\n",
       "      <td>1008.0</td>\n",
       "      <td>1008.0</td>\n",
       "      <td>1008.0</td>\n",
       "      <td>1008.0</td>\n",
       "      <td>1008.0</td>\n",
       "      <td>1008.0</td>\n",
       "      <td>1008.0</td>\n",
       "      <td>1008.0</td>\n",
       "      <td>1008.0</td>\n",
       "    </tr>\n",
       "    <tr>\n",
       "      <th>mean</th>\n",
       "      <td>2.788473</td>\n",
       "      <td>0.094598</td>\n",
       "      <td>1.947458</td>\n",
       "      <td>0.074587</td>\n",
       "      <td>0.587350</td>\n",
       "      <td>1.787522</td>\n",
       "      <td>0.007063</td>\n",
       "      <td>1.153817</td>\n",
       "      <td>1.757691</td>\n",
       "      <td>0.031894</td>\n",
       "      <td>...</td>\n",
       "      <td>0.0</td>\n",
       "      <td>0.0</td>\n",
       "      <td>0.0</td>\n",
       "      <td>0.0</td>\n",
       "      <td>0.0</td>\n",
       "      <td>0.0</td>\n",
       "      <td>0.0</td>\n",
       "      <td>0.0</td>\n",
       "      <td>0.0</td>\n",
       "      <td>0.0</td>\n",
       "    </tr>\n",
       "    <tr>\n",
       "      <th>std</th>\n",
       "      <td>0.660256</td>\n",
       "      <td>0.363470</td>\n",
       "      <td>0.580227</td>\n",
       "      <td>0.252156</td>\n",
       "      <td>0.827852</td>\n",
       "      <td>0.485842</td>\n",
       "      <td>0.033616</td>\n",
       "      <td>0.336113</td>\n",
       "      <td>0.461494</td>\n",
       "      <td>0.045119</td>\n",
       "      <td>...</td>\n",
       "      <td>0.0</td>\n",
       "      <td>0.0</td>\n",
       "      <td>0.0</td>\n",
       "      <td>0.0</td>\n",
       "      <td>0.0</td>\n",
       "      <td>0.0</td>\n",
       "      <td>0.0</td>\n",
       "      <td>0.0</td>\n",
       "      <td>0.0</td>\n",
       "      <td>0.0</td>\n",
       "    </tr>\n",
       "    <tr>\n",
       "      <th>min</th>\n",
       "      <td>0.712480</td>\n",
       "      <td>0.000000</td>\n",
       "      <td>0.657250</td>\n",
       "      <td>0.000000</td>\n",
       "      <td>0.003343</td>\n",
       "      <td>0.776109</td>\n",
       "      <td>0.000000</td>\n",
       "      <td>0.216514</td>\n",
       "      <td>0.651135</td>\n",
       "      <td>0.000000</td>\n",
       "      <td>...</td>\n",
       "      <td>0.0</td>\n",
       "      <td>0.0</td>\n",
       "      <td>0.0</td>\n",
       "      <td>0.0</td>\n",
       "      <td>0.0</td>\n",
       "      <td>0.0</td>\n",
       "      <td>0.0</td>\n",
       "      <td>0.0</td>\n",
       "      <td>0.0</td>\n",
       "      <td>0.0</td>\n",
       "    </tr>\n",
       "    <tr>\n",
       "      <th>25%</th>\n",
       "      <td>2.348305</td>\n",
       "      <td>0.000000</td>\n",
       "      <td>1.560848</td>\n",
       "      <td>0.000000</td>\n",
       "      <td>0.085885</td>\n",
       "      <td>1.441346</td>\n",
       "      <td>0.000000</td>\n",
       "      <td>0.927522</td>\n",
       "      <td>1.439138</td>\n",
       "      <td>0.000000</td>\n",
       "      <td>...</td>\n",
       "      <td>0.0</td>\n",
       "      <td>0.0</td>\n",
       "      <td>0.0</td>\n",
       "      <td>0.0</td>\n",
       "      <td>0.0</td>\n",
       "      <td>0.0</td>\n",
       "      <td>0.0</td>\n",
       "      <td>0.0</td>\n",
       "      <td>0.0</td>\n",
       "      <td>0.0</td>\n",
       "    </tr>\n",
       "    <tr>\n",
       "      <th>50%</th>\n",
       "      <td>2.752431</td>\n",
       "      <td>0.000000</td>\n",
       "      <td>1.872609</td>\n",
       "      <td>0.014276</td>\n",
       "      <td>0.186553</td>\n",
       "      <td>1.736476</td>\n",
       "      <td>0.000000</td>\n",
       "      <td>1.143120</td>\n",
       "      <td>1.724637</td>\n",
       "      <td>0.018317</td>\n",
       "      <td>...</td>\n",
       "      <td>0.0</td>\n",
       "      <td>0.0</td>\n",
       "      <td>0.0</td>\n",
       "      <td>0.0</td>\n",
       "      <td>0.0</td>\n",
       "      <td>0.0</td>\n",
       "      <td>0.0</td>\n",
       "      <td>0.0</td>\n",
       "      <td>0.0</td>\n",
       "      <td>0.0</td>\n",
       "    </tr>\n",
       "    <tr>\n",
       "      <th>75%</th>\n",
       "      <td>3.220147</td>\n",
       "      <td>0.089984</td>\n",
       "      <td>2.216565</td>\n",
       "      <td>0.054177</td>\n",
       "      <td>0.740028</td>\n",
       "      <td>2.056712</td>\n",
       "      <td>0.000000</td>\n",
       "      <td>1.347181</td>\n",
       "      <td>2.032612</td>\n",
       "      <td>0.045064</td>\n",
       "      <td>...</td>\n",
       "      <td>0.0</td>\n",
       "      <td>0.0</td>\n",
       "      <td>0.0</td>\n",
       "      <td>0.0</td>\n",
       "      <td>0.0</td>\n",
       "      <td>0.0</td>\n",
       "      <td>0.0</td>\n",
       "      <td>0.0</td>\n",
       "      <td>0.0</td>\n",
       "      <td>0.0</td>\n",
       "    </tr>\n",
       "    <tr>\n",
       "      <th>max</th>\n",
       "      <td>4.817245</td>\n",
       "      <td>6.622685</td>\n",
       "      <td>5.060924</td>\n",
       "      <td>3.528672</td>\n",
       "      <td>5.884712</td>\n",
       "      <td>3.774374</td>\n",
       "      <td>0.585911</td>\n",
       "      <td>2.726657</td>\n",
       "      <td>4.045429</td>\n",
       "      <td>0.548163</td>\n",
       "      <td>...</td>\n",
       "      <td>0.0</td>\n",
       "      <td>0.0</td>\n",
       "      <td>0.0</td>\n",
       "      <td>0.0</td>\n",
       "      <td>0.0</td>\n",
       "      <td>0.0</td>\n",
       "      <td>0.0</td>\n",
       "      <td>0.0</td>\n",
       "      <td>0.0</td>\n",
       "      <td>0.0</td>\n",
       "    </tr>\n",
       "  </tbody>\n",
       "</table>\n",
       "<p>8 rows × 12309 columns</p>\n",
       "</div>"
      ],
      "text/plain": [
       "       ENSG00000005206.15  ENSG00000083622.8  ENSG00000088970.14  \\\n",
       "count         1008.000000        1008.000000         1008.000000   \n",
       "mean             2.788473           0.094598            1.947458   \n",
       "std              0.660256           0.363470            0.580227   \n",
       "min              0.712480           0.000000            0.657250   \n",
       "25%              2.348305           0.000000            1.560848   \n",
       "50%              2.752431           0.000000            1.872609   \n",
       "75%              3.220147           0.089984            2.216565   \n",
       "max              4.817245           6.622685            5.060924   \n",
       "\n",
       "       ENSG00000099869.7  ENSG00000100181.20  ENSG00000104691.13  \\\n",
       "count        1008.000000         1008.000000         1008.000000   \n",
       "mean            0.074587            0.587350            1.787522   \n",
       "std             0.252156            0.827852            0.485842   \n",
       "min             0.000000            0.003343            0.776109   \n",
       "25%             0.000000            0.085885            1.441346   \n",
       "50%             0.014276            0.186553            1.736476   \n",
       "75%             0.054177            0.740028            2.056712   \n",
       "max             3.528672            5.884712            3.774374   \n",
       "\n",
       "       ENSG00000115934.11  ENSG00000117242.7  ENSG00000118412.11  \\\n",
       "count         1008.000000        1008.000000         1008.000000   \n",
       "mean             0.007063           1.153817            1.757691   \n",
       "std              0.033616           0.336113            0.461494   \n",
       "min              0.000000           0.216514            0.651135   \n",
       "25%              0.000000           0.927522            1.439138   \n",
       "50%              0.000000           1.143120            1.724637   \n",
       "75%              0.000000           1.347181            2.032612   \n",
       "max              0.585911           2.726657            4.045429   \n",
       "\n",
       "       ENSG00000122043.9  ...  ENSGR0000185203.10  ENSGR0000223511.4  \\\n",
       "count        1008.000000  ...              1008.0             1008.0   \n",
       "mean            0.031894  ...                 0.0                0.0   \n",
       "std             0.045119  ...                 0.0                0.0   \n",
       "min             0.000000  ...                 0.0                0.0   \n",
       "25%             0.000000  ...                 0.0                0.0   \n",
       "50%             0.018317  ...                 0.0                0.0   \n",
       "75%             0.045064  ...                 0.0                0.0   \n",
       "max             0.548163  ...                 0.0                0.0   \n",
       "\n",
       "       ENSGR0000223571.4  ENSGR0000226179.4  ENSGR0000230542.4  \\\n",
       "count             1008.0             1008.0             1008.0   \n",
       "mean                 0.0                0.0                0.0   \n",
       "std                  0.0                0.0                0.0   \n",
       "min                  0.0                0.0                0.0   \n",
       "25%                  0.0                0.0                0.0   \n",
       "50%                  0.0                0.0                0.0   \n",
       "75%                  0.0                0.0                0.0   \n",
       "max                  0.0                0.0                0.0   \n",
       "\n",
       "       ENSGR0000234622.4  ENSGR0000236017.6  ENSGR0000236871.5  \\\n",
       "count             1008.0             1008.0             1008.0   \n",
       "mean                 0.0                0.0                0.0   \n",
       "std                  0.0                0.0                0.0   \n",
       "min                  0.0                0.0                0.0   \n",
       "25%                  0.0                0.0                0.0   \n",
       "50%                  0.0                0.0                0.0   \n",
       "75%                  0.0                0.0                0.0   \n",
       "max                  0.0                0.0                0.0   \n",
       "\n",
       "       ENSGR0000237531.4  ENSGR0000270726.4  \n",
       "count             1008.0             1008.0  \n",
       "mean                 0.0                0.0  \n",
       "std                  0.0                0.0  \n",
       "min                  0.0                0.0  \n",
       "25%                  0.0                0.0  \n",
       "50%                  0.0                0.0  \n",
       "75%                  0.0                0.0  \n",
       "max                  0.0                0.0  \n",
       "\n",
       "[8 rows x 12309 columns]"
      ]
     },
     "execution_count": 6,
     "metadata": {},
     "output_type": "execute_result"
    }
   ],
   "source": [
    "df.describe()  # data stats"
   ]
  },
  {
   "cell_type": "code",
   "execution_count": 7,
   "metadata": {
    "colab": {
     "base_uri": "https://localhost:8080/"
    },
    "id": "hgFXlSnTYReV",
    "outputId": "da471238-d60f-4c0f-c618-06b54c44d616"
   },
   "outputs": [
    {
     "name": "stdout",
     "output_type": "stream",
     "text": [
      "<class 'pandas.core.frame.DataFrame'>\n",
      "RangeIndex: 1008 entries, 0 to 1007\n",
      "Columns: 12311 entries, Ensembl_ID to Class\n",
      "dtypes: float64(12309), object(2)\n",
      "memory usage: 94.7+ MB\n"
     ]
    }
   ],
   "source": [
    "df.info()"
   ]
  },
  {
   "cell_type": "code",
   "execution_count": 8,
   "metadata": {
    "colab": {
     "base_uri": "https://localhost:8080/"
    },
    "id": "wUs9oQJYTIiU",
    "outputId": "d6f98bd3-0812-427d-971e-a0c840f34669"
   },
   "outputs": [
    {
     "data": {
      "text/plain": [
       "Ensembl_ID            0\n",
       "ENSG00000005206.15    0\n",
       "ENSG00000083622.8     0\n",
       "ENSG00000088970.14    0\n",
       "ENSG00000099869.7     0\n",
       "                     ..\n",
       "ENSGR0000236017.6     0\n",
       "ENSGR0000236871.5     0\n",
       "ENSGR0000237531.4     0\n",
       "ENSGR0000270726.4     0\n",
       "Class                 0\n",
       "Length: 12311, dtype: int64"
      ]
     },
     "execution_count": 8,
     "metadata": {},
     "output_type": "execute_result"
    }
   ],
   "source": [
    "df.isnull().sum()    #Checking if any null value in Data"
   ]
  },
  {
   "cell_type": "markdown",
   "metadata": {
    "id": "6fRQtnbDU0Ny"
   },
   "source": [
    "As we have seen all data and undersatnd it,Now we will be proceeding using labelencoder to convert class into values. "
   ]
  },
  {
   "cell_type": "code",
   "execution_count": 9,
   "metadata": {
    "id": "dAqwM_kBUVkb"
   },
   "outputs": [],
   "source": [
    "label= LabelEncoder()\n",
    "df['Class'] = label.fit_transform(df['Class'])"
   ]
  },
  {
   "cell_type": "code",
   "execution_count": 10,
   "metadata": {
    "colab": {
     "base_uri": "https://localhost:8080/"
    },
    "id": "Br416QJrVR_A",
    "outputId": "7c61d1e9-1b19-4e63-8be5-0a70ef7c3e4b"
   },
   "outputs": [
    {
     "data": {
      "text/plain": [
       "0       0\n",
       "1       0\n",
       "2       0\n",
       "3       0\n",
       "4       0\n",
       "       ..\n",
       "1003    1\n",
       "1004    1\n",
       "1005    1\n",
       "1006    1\n",
       "1007    1\n",
       "Name: Class, Length: 1008, dtype: int32"
      ]
     },
     "execution_count": 10,
     "metadata": {},
     "output_type": "execute_result"
    }
   ],
   "source": [
    "df.Class"
   ]
  },
  {
   "cell_type": "markdown",
   "metadata": {
    "id": "kSBnqhvXVel1"
   },
   "source": [
    "As now we can see that Names are converted into values."
   ]
  },
  {
   "cell_type": "markdown",
   "metadata": {
    "id": "Sy1IGnDzVqG9"
   },
   "source": [
    "Now we will move towards Train test split and assigning X and Y"
   ]
  },
  {
   "cell_type": "code",
   "execution_count": 11,
   "metadata": {
    "id": "P12cpCAxV6N-"
   },
   "outputs": [],
   "source": [
    "x = df.drop(['Class', 'Ensembl_ID'], axis =1)\n",
    "y = df['Class']"
   ]
  },
  {
   "cell_type": "code",
   "execution_count": 12,
   "metadata": {
    "colab": {
     "base_uri": "https://localhost:8080/"
    },
    "id": "v1XgkvFWWxEE",
    "outputId": "fb7b2f4d-fdee-41b4-fc28-d31dfd660590"
   },
   "outputs": [
    {
     "data": {
      "text/plain": [
       "(1008, 12309)"
      ]
     },
     "execution_count": 12,
     "metadata": {},
     "output_type": "execute_result"
    }
   ],
   "source": [
    "x.shape"
   ]
  },
  {
   "cell_type": "code",
   "execution_count": 13,
   "metadata": {
    "colab": {
     "base_uri": "https://localhost:8080/"
    },
    "id": "wktOHNqGW7We",
    "outputId": "576d1197-13e3-403a-c01a-fbfa60318b2d"
   },
   "outputs": [
    {
     "data": {
      "text/plain": [
       "(1008,)"
      ]
     },
     "execution_count": 13,
     "metadata": {},
     "output_type": "execute_result"
    }
   ],
   "source": [
    "y.shape"
   ]
  },
  {
   "cell_type": "code",
   "execution_count": 14,
   "metadata": {
    "id": "GE7lMzh1W81I"
   },
   "outputs": [],
   "source": [
    "X_train,X_test,y_train,y_test=train_test_split(x,y,random_state=0,test_size=0.2)"
   ]
  },
  {
   "cell_type": "code",
   "execution_count": 15,
   "metadata": {
    "colab": {
     "base_uri": "https://localhost:8080/"
    },
    "id": "fMdHzVYjXF7T",
    "outputId": "d240576d-ba62-42c4-f089-b8b913953266"
   },
   "outputs": [
    {
     "data": {
      "text/plain": [
       "(806, 12309)"
      ]
     },
     "execution_count": 15,
     "metadata": {},
     "output_type": "execute_result"
    }
   ],
   "source": [
    "X_train.shape"
   ]
  },
  {
   "cell_type": "code",
   "execution_count": 16,
   "metadata": {
    "colab": {
     "base_uri": "https://localhost:8080/"
    },
    "id": "lyfSULM2XIJg",
    "outputId": "d8b5f441-f281-4d87-832e-7a51b6656d0e"
   },
   "outputs": [
    {
     "data": {
      "text/plain": [
       "(202, 12309)"
      ]
     },
     "execution_count": 16,
     "metadata": {},
     "output_type": "execute_result"
    }
   ],
   "source": [
    "X_test.shape"
   ]
  },
  {
   "cell_type": "markdown",
   "metadata": {},
   "source": [
    "## SUPPORT VECTOR MACHINE"
   ]
  },
  {
   "cell_type": "code",
   "execution_count": 17,
   "metadata": {
    "id": "zdALfWzpXJ6U"
   },
   "outputs": [],
   "source": [
    "support = SVC()\n",
    "model = support.fit(X_train,y_train)\n",
    "y_pred = support.predict(X_test)"
   ]
  },
  {
   "cell_type": "code",
   "execution_count": 18,
   "metadata": {
    "colab": {
     "base_uri": "https://localhost:8080/"
    },
    "id": "hyTXgItrYHrx",
    "outputId": "4dbc913c-6942-40f0-bf94-9e4e1dd18662"
   },
   "outputs": [
    {
     "name": "stdout",
     "output_type": "stream",
     "text": [
      "0.9603960396039604\n"
     ]
    }
   ],
   "source": [
    "print(accuracy_score(y_test,y_pred))"
   ]
  },
  {
   "cell_type": "code",
   "execution_count": 30,
   "metadata": {},
   "outputs": [
    {
     "data": {
      "image/png": "[encoded data removed]",
      "text/plain": [
       "<Figure size 432x288 with 2 Axes>"
      ]
     },
     "metadata": {
      "needs_background": "light"
     },
     "output_type": "display_data"
    }
   ],
   "source": [
    "from sklearn.metrics import confusion_matrix\n",
    "confusion_matrix = confusion_matrix(y_test,y_pred)\n",
    "\n",
    "ax= plt.subplot()\n",
    "sns.heatmap(confusion_matrix, annot=True, cmap='copper', ax=ax)\n",
    "\n",
    "ax.set_xlabel('Predicted labels');ax.set_ylabel('True labels'); \n",
    "ax.set_title('Confusion Matrix for SVM'); \n",
    "ax.xaxis.set_ticklabels(['LUAD', 'LUSC']); ax.yaxis.set_ticklabels(['LUAD', 'LUSC']);"
   ]
  },
  {
   "cell_type": "code",
   "execution_count": 20,
   "metadata": {
    "colab": {
     "base_uri": "https://localhost:8080/"
    },
    "id": "q2DFk8FSZB-i",
    "outputId": "0186df97-ad8c-4ebb-815b-6aa0ee18ca6b"
   },
   "outputs": [
    {
     "name": "stdout",
     "output_type": "stream",
     "text": [
      "              precision    recall  f1-score   support\n",
      "\n",
      "           0       0.95      0.97      0.96       100\n",
      "           1       0.97      0.95      0.96       102\n",
      "\n",
      "    accuracy                           0.96       202\n",
      "   macro avg       0.96      0.96      0.96       202\n",
      "weighted avg       0.96      0.96      0.96       202\n",
      "\n"
     ]
    }
   ],
   "source": [
    "print(classification_report(y_test , y_pred))"
   ]
  },
  {
   "cell_type": "code",
   "execution_count": 21,
   "metadata": {},
   "outputs": [
    {
     "data": {
      "text/plain": [
       "<function matplotlib.pyplot.show(close=None, block=None)>"
      ]
     },
     "execution_count": 21,
     "metadata": {},
     "output_type": "execute_result"
    },
    {
     "data": {
      "image/png": "[encoded data removed]",
      "text/plain": [
       "<Figure size 432x288 with 1 Axes>"
      ]
     },
     "metadata": {
      "needs_background": "light"
     },
     "output_type": "display_data"
    }
   ],
   "source": [
    "from sklearn.metrics import RocCurveDisplay\n",
    "svm_c = RocCurveDisplay.from_estimator(model, X_test, y_test)\n",
    "plt.plot([0, 1], [0, 1], linestyle=(1, (5,5)), label= 'Random guess')\n",
    "plt.show"
   ]
  },
  {
   "cell_type": "markdown",
   "metadata": {
    "id": "E8fbwZkVZPik"
   },
   "source": [
    "Support Vector Machine is giving 0.96 accuracy and precision of 0.95 on 0 class (LUAD) and 0.97 on 1 class (LUSC). We can see recall and f1-score in above table.\n"
   ]
  },
  {
   "cell_type": "markdown",
   "metadata": {
    "id": "ZcbdxX2lZxx6"
   },
   "source": [
    "## RANDOM FOREST CLASSIFIER"
   ]
  },
  {
   "cell_type": "code",
   "execution_count": 22,
   "metadata": {},
   "outputs": [],
   "source": [
    "random = RandomForestClassifier()\n",
    "model1 = random.fit(X_train,y_train)\n",
    "y_pred1 = random.predict(X_test)"
   ]
  },
  {
   "cell_type": "code",
   "execution_count": 23,
   "metadata": {
    "colab": {
     "base_uri": "https://localhost:8080/"
    },
    "id": "pbJxdcHmbpmC",
    "outputId": "9f4e493a-716a-4365-d2e5-9e47d92ee6ce"
   },
   "outputs": [
    {
     "name": "stdout",
     "output_type": "stream",
     "text": [
      "0.9653465346534653\n"
     ]
    }
   ],
   "source": [
    "print(accuracy_score(y_test,y_pred1))"
   ]
  },
  {
   "cell_type": "code",
   "execution_count": 29,
   "metadata": {},
   "outputs": [
    {
     "data": {
      "image/png": "[encoded data removed]",
      "text/plain": [
       "<Figure size 432x288 with 2 Axes>"
      ]
     },
     "metadata": {
      "needs_background": "light"
     },
     "output_type": "display_data"
    }
   ],
   "source": [
    "from sklearn.metrics import confusion_matrix\n",
    "confusion_matrix1 = confusion_matrix(y_test,y_pred1)\n",
    "\n",
    "ax= plt.subplot()\n",
    "sns.heatmap(confusion_matrix1, annot=True, cmap='copper', ax=ax)\n",
    "\n",
    "ax.set_xlabel('Predicted labels');ax.set_ylabel('True labels'); \n",
    "ax.set_title('Confusion Matrix for RF'); \n",
    "ax.xaxis.set_ticklabels(['LUAD', 'LUSC']); ax.yaxis.set_ticklabels(['LUAD', 'LUSC']);"
   ]
  },
  {
   "cell_type": "code",
   "execution_count": 25,
   "metadata": {
    "colab": {
     "base_uri": "https://localhost:8080/"
    },
    "id": "qG16Bq0Cbs4M",
    "outputId": "f70ffdcb-5117-4342-b3a6-1e2989d1b516"
   },
   "outputs": [
    {
     "name": "stdout",
     "output_type": "stream",
     "text": [
      "              precision    recall  f1-score   support\n",
      "\n",
      "           0       0.96      0.97      0.97       100\n",
      "           1       0.97      0.96      0.97       102\n",
      "\n",
      "    accuracy                           0.97       202\n",
      "   macro avg       0.97      0.97      0.97       202\n",
      "weighted avg       0.97      0.97      0.97       202\n",
      "\n"
     ]
    }
   ],
   "source": [
    "print(classification_report(y_test , y_pred1))"
   ]
  },
  {
   "cell_type": "code",
   "execution_count": 26,
   "metadata": {},
   "outputs": [
    {
     "data": {
      "text/plain": [
       "<function matplotlib.pyplot.show(close=None, block=None)>"
      ]
     },
     "execution_count": 26,
     "metadata": {},
     "output_type": "execute_result"
    },
    {
     "data": {
      "image/png": "[encoded data removed]",
      "text/plain": [
       "<Figure size 432x288 with 1 Axes>"
      ]
     },
     "metadata": {
      "needs_background": "light"
     },
     "output_type": "display_data"
    }
   ],
   "source": [
    "from sklearn.metrics import RocCurveDisplay\n",
    "rf_c = RocCurveDisplay.from_estimator(model1, X_test, y_test)\n",
    "plt.plot([0, 1], [0, 1], linestyle=(1, (5,5)), label= 'Random guess')\n",
    "plt.show"
   ]
  },
  {
   "cell_type": "markdown",
   "metadata": {
    "id": "ZCKPn3jTbzxh"
   },
   "source": [
    "This shows us that Random forest is giving 0.96 numbers in every field, which means it has accuracy, recall, precision and f1 score of 96 percent. "
   ]
  },
  {
   "cell_type": "markdown",
   "metadata": {},
   "source": [
    "## ROC CURVE COMPARSION"
   ]
  },
  {
   "cell_type": "code",
   "execution_count": 28,
   "metadata": {},
   "outputs": [
    {
     "data": {
      "image/png": "[encoded data removed]",
      "text/plain": [
       "<Figure size 432x288 with 1 Axes>"
      ]
     },
     "metadata": {
      "needs_background": "light"
     },
     "output_type": "display_data"
    }
   ],
   "source": [
    "from sklearn.metrics import plot_roc_curve\n",
    "fig = plot_roc_curve( model1, X_test, y_test)\n",
    "fig = plot_roc_curve( model, X_test, y_test, ax = fig.ax_)\n",
    "plt.plot([0, 1], [0, 1], linestyle=(1, (5,5)), label= 'Random guess')\n",
    "fig.figure_.suptitle(\"ROC curve comparison\")\n",
    "plt.show() "
   ]
  },
  {
   "cell_type": "markdown",
   "metadata": {},
   "source": [
    "This plot explains as Fpr is false positive rate and tpr is true positive rate thresholds are different probability cutoffs that separate the two classes. First, we are taking values from real y labels and predicted y of the model, these three values and after that we are just plotting these things on a graph. Taking tpr on y axis and fpr on x axis. As the score is close to 1 it means that model is working well and has the ability to do class action between two classes. By looking at this plot we can say that both of the model has 0.96 ability to separate between two classes. There is not much different between both models ROC Curve and AUC score."
   ]
  },
  {
   "cell_type": "markdown",
   "metadata": {
    "id": "S8Gi_SPrcnKu"
   },
   "source": [
    "## Conclusion\n",
    "As we have used two machine learning Model for lungs cancer prediction, we can see that both model gave similar accuracy and result on metrics of test data, However as Random Forest have constant 0.96 score and SVM has 0.95 score in precision and recall i will give more preference to Random Forest as it gave a consistent score of 0.96 is better than variation in scores whereby in SVM we have some issue in precision of 0 and recall of 1, so giving more preference to consistency in this case."
   ]
  }
 ],
 "metadata": {
  "accelerator": "GPU",
  "colab": {
   "collapsed_sections": [],
   "provenance": []
  },
  "kernelspec": {
   "display_name": "Python 3 (ipykernel)",
   "language": "python",
   "name": "python3"
  },
  "language_info": {
   "codemirror_mode": {
    "name": "ipython",
    "version": 3
   },
   "file_extension": ".py",
   "mimetype": "text/x-python",
   "name": "python",
   "nbconvert_exporter": "python",
   "pygments_lexer": "ipython3",
   "version": "3.9.12"
  }
 },
 "nbformat": 4,
 "nbformat_minor": 1
}
